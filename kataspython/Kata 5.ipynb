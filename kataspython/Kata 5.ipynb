{
 "cells": [
  {
   "cell_type": "code",
   "execution_count": 16,
   "metadata": {},
   "outputs": [],
   "source": [
    "Tierra =  149597870\n",
    "Jupiter = 778547200"
   ]
  },
  {
   "cell_type": "code",
   "execution_count": 17,
   "metadata": {},
   "outputs": [
    {
     "name": "stdout",
     "output_type": "stream",
     "text": [
      "628949330 390577533.93\n"
     ]
    }
   ],
   "source": [
    "Distancia_entre_planetas = Jupiter - Tierra\n",
    "\n",
    "DistanciaMillas = Distancia_entre_planetas * 0.621\n",
    "\n",
    "print(Distancia_entre_planetas, DistanciaMillas)"
   ]
  },
  {
   "cell_type": "markdown",
   "metadata": {},
   "source": [
    "Ejercicio 2"
   ]
  },
  {
   "cell_type": "code",
   "execution_count": 23,
   "metadata": {},
   "outputs": [],
   "source": [
    "Distancia1 = input(\"Escribe la distancia del sol\")\n",
    "Distancia2 = input(\"Escribe la distancia del sol\")"
   ]
  },
  {
   "cell_type": "code",
   "execution_count": 24,
   "metadata": {},
   "outputs": [],
   "source": [
    "Distancia1 = int(DistanciaTierra)\n",
    "Distancia2 = int(DistanciaJupiter)\n",
    "\n"
   ]
  },
  {
   "cell_type": "code",
   "execution_count": 26,
   "metadata": {},
   "outputs": [
    {
     "name": "stdout",
     "output_type": "stream",
     "text": [
      "2000\n",
      "1242.0\n"
     ]
    }
   ],
   "source": [
    "Distancia = abs(Distancia1-Distancia2)\n",
    "print(Distancia)\n",
    "print(Distancia*0.621)"
   ]
  }
 ],
 "metadata": {
  "interpreter": {
   "hash": "0225f75f04691013f6f14a622c7cdc5b7fa1b8ee78b5c7855583d7ba7898a323"
  },
  "kernelspec": {
   "display_name": "Python 3.10.2 64-bit",
   "language": "python",
   "name": "python3"
  },
  "language_info": {
   "codemirror_mode": {
    "name": "ipython",
    "version": 3
   },
   "file_extension": ".py",
   "mimetype": "text/x-python",
   "name": "python",
   "nbconvert_exporter": "python",
   "pygments_lexer": "ipython3",
   "version": "3.10.2"
  },
  "orig_nbformat": 4
 },
 "nbformat": 4,
 "nbformat_minor": 2
}
